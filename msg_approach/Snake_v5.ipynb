{
 "cells": [
  {
   "cell_type": "code",
   "execution_count": 951,
   "metadata": {
    "collapsed": true
   },
   "outputs": [],
   "source": [
    "from sklearn.linear_model import SGDClassifier\n",
    "import pandas as pd\n",
    "import numpy as np\n",
    "import networkx as nx\n",
    "from random import choice\n",
    "import matplotlib.pyplot as plt\n",
    "from itertools import product"
   ]
  },
  {
   "cell_type": "code",
   "execution_count": 952,
   "metadata": {
    "collapsed": true
   },
   "outputs": [],
   "source": [
    "G = nx.DiGraph()\n",
    "bndry=3\n",
    "seen=set()\n",
    "move_history=[]\n",
    "df=pd.DataFrame(np.array(range(bndry**2)).reshape(bndry,bndry))"
   ]
  },
  {
   "cell_type": "code",
   "execution_count": 953,
   "metadata": {},
   "outputs": [
    {
     "data": {
      "text/plain": [
       "set()"
      ]
     },
     "execution_count": 953,
     "metadata": {},
     "output_type": "execute_result"
    }
   ],
   "source": [
    "df\n",
    "seen"
   ]
  },
  {
   "cell_type": "code",
   "execution_count": 954,
   "metadata": {
    "collapsed": true
   },
   "outputs": [],
   "source": [
    "def possible_moves(ix,iy):\n",
    "            test_lst=[(ix-1,iy),(ix+1,iy),(ix,iy+1),(ix,iy-1)]\n",
    "            #filter invalid values\n",
    "            resp=[(ix,iy) for (ix,iy) in test_lst \\\n",
    "                  if ix>=0 and ix < bndry and  iy >= 0 and iy < bndry and (ix,iy) not in seen]\n",
    "            return resp\n",
    "        \n",
    "        \n"
   ]
  },
  {
   "cell_type": "code",
   "execution_count": 955,
   "metadata": {
    "collapsed": true
   },
   "outputs": [],
   "source": [
    "def make_graph(dct):\n",
    "    #adds all of the keys as nodes\n",
    "    for k in dct.keys():\n",
    "        G.add_node(k)\n",
    "\n",
    "    #adds an edge for each of the possible moves still on the board\n",
    "    for k,v in dct.items():\n",
    "        for tupls in v:\n",
    "            G.add_edge(k,tupls)\n",
    "    return G"
   ]
  },
  {
   "cell_type": "code",
   "execution_count": 956,
   "metadata": {
    "collapsed": true
   },
   "outputs": [],
   "source": [
    "def draw_graph(dct):\n",
    "    G=make_graph(dct)\n",
    "    nx.draw(G)\n",
    "    plt.show()"
   ]
  },
  {
   "cell_type": "code",
   "execution_count": 957,
   "metadata": {
    "collapsed": true
   },
   "outputs": [],
   "source": [
    "def next_move(move):\n",
    "    moves=possible_moves(move[0],move[1])\n",
    "    print \"possible moves from \",move,\"are\",moves\n",
    "    dst = choice(moves)\n",
    "    print \"choice is \",dst\n",
    "    print \"moving from \",move,\"to\" ,dst\n",
    "    seen.add(move)\n",
    "    move_history.append([(move,dst)])\n",
    "    return dst"
   ]
  },
  {
   "cell_type": "code",
   "execution_count": 958,
   "metadata": {},
   "outputs": [
    {
     "data": {
      "text/plain": [
       "[(0, 1), (2, 1), (1, 2), (1, 0)]"
      ]
     },
     "execution_count": 958,
     "metadata": {},
     "output_type": "execute_result"
    }
   ],
   "source": [
    "possible_moves(1,1)"
   ]
  },
  {
   "cell_type": "code",
   "execution_count": 959,
   "metadata": {},
   "outputs": [],
   "source": [
    "#initial dict setup\n",
    "def dct_setup():\n",
    "    seen=set()\n",
    "    move_history=[]\n",
    "    lst=df.columns.tolist()\n",
    "    #print lst\n",
    "    dct={}\n",
    "    seen=set()\n",
    "    points=list(product(lst,lst))\n",
    "   \n",
    "\n",
    "    for tupl in points:\n",
    "        dct[tupl]=possible_moves(tupl[0],tupl[1])\n",
    "        \n",
    "    return dct\n",
    "            \n",
    "            \n"
   ]
  },
  {
   "cell_type": "code",
   "execution_count": 960,
   "metadata": {},
   "outputs": [],
   "source": [
    "dct=dct_setup()\n"
   ]
  },
  {
   "cell_type": "code",
   "execution_count": 961,
   "metadata": {},
   "outputs": [
    {
     "data": {
      "text/plain": [
       "[(1, 0), (0, 1)]"
      ]
     },
     "execution_count": 961,
     "metadata": {},
     "output_type": "execute_result"
    }
   ],
   "source": [
    "possible_moves(0,0)"
   ]
  },
  {
   "cell_type": "code",
   "execution_count": null,
   "metadata": {},
   "outputs": [],
   "source": []
  },
  {
   "cell_type": "code",
   "execution_count": null,
   "metadata": {},
   "outputs": [],
   "source": []
  },
  {
   "cell_type": "code",
   "execution_count": null,
   "metadata": {
    "collapsed": true
   },
   "outputs": [],
   "source": []
  },
  {
   "cell_type": "code",
   "execution_count": 962,
   "metadata": {},
   "outputs": [],
   "source": [
    "G=make_graph(dct)\n",
    "draw_graph(dct)\n",
    "#connectivity of the graph will play a role in the decision making process"
   ]
  },
  {
   "cell_type": "code",
   "execution_count": 963,
   "metadata": {
    "collapsed": true
   },
   "outputs": [],
   "source": [
    "initial_choice=choice(dct.keys())"
   ]
  },
  {
   "cell_type": "code",
   "execution_count": 964,
   "metadata": {},
   "outputs": [
    {
     "data": {
      "text/plain": [
       "(1, 2)"
      ]
     },
     "execution_count": 964,
     "metadata": {},
     "output_type": "execute_result"
    }
   ],
   "source": [
    "initial_choice"
   ]
  },
  {
   "cell_type": "code",
   "execution_count": 965,
   "metadata": {},
   "outputs": [
    {
     "name": "stdout",
     "output_type": "stream",
     "text": [
      "possible moves from  (1, 2) are [(0, 2), (2, 2), (1, 1)]\n",
      "choice is  (1, 1)\n",
      "moving from  (1, 2) to (1, 1)\n"
     ]
    }
   ],
   "source": [
    "dst=next_move(initial_choice)"
   ]
  },
  {
   "cell_type": "code",
   "execution_count": null,
   "metadata": {},
   "outputs": [],
   "source": []
  },
  {
   "cell_type": "code",
   "execution_count": 966,
   "metadata": {},
   "outputs": [
    {
     "name": "stdout",
     "output_type": "stream",
     "text": [
      "possible moves from  (1, 1) are [(0, 1), (2, 1), (1, 0)]\n",
      "choice is  (2, 1)\n",
      "moving from  (1, 1) to (2, 1)\n",
      "possible moves from  (2, 1) are [(2, 2), (2, 0)]\n",
      "choice is  (2, 2)\n",
      "moving from  (2, 1) to (2, 2)\n",
      "possible moves from  (2, 2) are []\n",
      "[[((1, 2), (1, 1))], [((1, 1), (2, 1))], [((2, 1), (2, 2))]]\n"
     ]
    }
   ],
   "source": [
    "for ix in range(bndry**2-2):\n",
    "    try:\n",
    "        dst=next_move(dst)\n",
    "    except:\n",
    "        print move_history\n",
    "        break"
   ]
  },
  {
   "cell_type": "code",
   "execution_count": 967,
   "metadata": {},
   "outputs": [
    {
     "data": {
      "text/plain": [
       "3"
      ]
     },
     "execution_count": 967,
     "metadata": {},
     "output_type": "execute_result"
    }
   ],
   "source": [
    "len(move_history)"
   ]
  },
  {
   "cell_type": "code",
   "execution_count": null,
   "metadata": {},
   "outputs": [],
   "source": []
  },
  {
   "cell_type": "code",
   "execution_count": 972,
   "metadata": {},
   "outputs": [
    {
     "name": "stdout",
     "output_type": "stream",
     "text": [
      "possible moves from  (2, 0) are [(1, 0), (2, 1)]\n",
      "choice is  (2, 1)\n",
      "moving from  (2, 0) to (2, 1)\n",
      "possible moves from  (2, 1) are [(1, 1), (2, 2)]\n",
      "choice is  (2, 2)\n",
      "moving from  (2, 1) to (2, 2)\n",
      "possible moves from  (2, 2) are [(1, 2)]\n",
      "choice is  (1, 2)\n",
      "moving from  (2, 2) to (1, 2)\n",
      "possible moves from  (1, 2) are [(0, 2), (1, 1)]\n",
      "choice is  (1, 1)\n",
      "moving from  (1, 2) to (1, 1)\n",
      "possible moves from  (1, 1) are [(0, 1), (1, 0)]\n",
      "choice is  (1, 0)\n",
      "moving from  (1, 1) to (1, 0)\n",
      "possible moves from  (1, 0) are [(0, 0)]\n",
      "choice is  (0, 0)\n",
      "moving from  (1, 0) to (0, 0)\n",
      "possible moves from  (0, 0) are [(0, 1)]\n",
      "choice is  (0, 1)\n",
      "moving from  (0, 0) to (0, 1)\n",
      "possible moves from  (0, 1) are [(0, 2)]\n",
      "choice is  (0, 2)\n",
      "moving from  (0, 1) to (0, 2)\n"
     ]
    },
    {
     "data": {
      "text/plain": [
       "8"
      ]
     },
     "execution_count": 972,
     "metadata": {},
     "output_type": "execute_result"
    }
   ],
   "source": [
    "seen=set()\n",
    "move_history=[]\n",
    "dct=dct_setup()\n",
    "initial_choice=choice(dct.keys())\n",
    "dst=next_move(initial_choice)\n",
    "for ix in range(bndry**2-2):\n",
    "    try:\n",
    "        dst=next_move(dst)\n",
    "    except:\n",
    "        print move_history\n",
    "        break\n",
    "len(move_history)"
   ]
  },
  {
   "cell_type": "code",
   "execution_count": 979,
   "metadata": {},
   "outputs": [
    {
     "data": {
      "text/plain": [
       "{0: {0: ((2, 0), (2, 1)),\n",
       "  1: ((2, 1), (2, 2)),\n",
       "  2: ((2, 2), (1, 2)),\n",
       "  3: ((1, 2), (1, 1)),\n",
       "  4: ((1, 1), (1, 0)),\n",
       "  5: ((1, 0), (0, 0)),\n",
       "  6: ((0, 0), (0, 1)),\n",
       "  7: ((0, 1), (0, 2))}}"
      ]
     },
     "execution_count": 979,
     "metadata": {},
     "output_type": "execute_result"
    }
   ],
   "source": [
    "pd.DataFrame(move_history).to_dict()"
   ]
  },
  {
   "cell_type": "code",
   "execution_count": null,
   "metadata": {
    "collapsed": true
   },
   "outputs": [],
   "source": []
  }
 ],
 "metadata": {
  "kernelspec": {
   "display_name": "Python 2",
   "language": "python",
   "name": "python2"
  },
  "language_info": {
   "codemirror_mode": {
    "name": "ipython",
    "version": 2
   },
   "file_extension": ".py",
   "mimetype": "text/x-python",
   "name": "python",
   "nbconvert_exporter": "python",
   "pygments_lexer": "ipython2",
   "version": "2.7.9"
  }
 },
 "nbformat": 4,
 "nbformat_minor": 2
}
