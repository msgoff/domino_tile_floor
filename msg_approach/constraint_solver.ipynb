{
 "cells": [
  {
   "cell_type": "code",
   "execution_count": 50,
   "metadata": {},
   "outputs": [],
   "source": [
    "def create_transition_dic(width,height):\n",
    "    transition_dic={}\n",
    "    num_tiles=width*height\n",
    "    for n in range(1,num_tiles+1):\n",
    "        adjacent_edges_list=[]\n",
    "        if ((n-1)%width != 0): \n",
    "            adjacent_edges_list.append(n-1) # left\n",
    "        if (n%width     != 0): \n",
    "            adjacent_edges_list.append(n+1) # right\n",
    "        if (n > width):\n",
    "            adjacent_edges_list.append(n-width) # top\n",
    "        if (n<=((width*height)-width)):\n",
    "            adjacent_edges_list.append(n+width) # bottom\n",
    "        transition_dic[n]=adjacent_edges_list\n",
    "    return transition_dic"
   ]
  },
  {
   "cell_type": "code",
   "execution_count": 99,
   "metadata": {},
   "outputs": [],
   "source": [
    "dct = create_transition_dic(3,3)\n"
   ]
  },
  {
   "cell_type": "code",
   "execution_count": 122,
   "metadata": {},
   "outputs": [
    {
     "name": "stdout",
     "output_type": "stream",
     "text": [
      "[1, 4, 7, 8, 9, 6, 5, 2, 3]\n",
      "[1, 4, 7, 8, 9, 6, 3, 2, 5]\n",
      "[1, 4, 7, 8, 5, 2, 3, 6, 9]\n",
      "[1, 4, 5, 2, 3, 6, 9, 8, 7]\n",
      "[1, 2, 3, 6, 5, 4, 7, 8, 9]\n",
      "[1, 2, 3, 6, 9, 8, 5, 4, 7]\n",
      "[1, 2, 3, 6, 9, 8, 7, 4, 5]\n",
      "[1, 2, 5, 4, 7, 8, 9, 6, 3]\n"
     ]
    }
   ],
   "source": [
    "from constraint import *\n",
    "problem = Problem()\n",
    "problem.addVariable(\"a\", [1])\n",
    "problem.addVariable(\"b\", [2,4])\n",
    "problem.addVariable(\"c\", [3,5,7])\n",
    "problem.addVariable(\"d\", [2,4,6,8])\n",
    "problem.addVariable(\"e\", [3,5,7,9])\n",
    "problem.addVariable(\"f\", [2,4,6,8])\n",
    "problem.addVariable(\"g\", [3,5,7,9])\n",
    "problem.addVariable(\"h\", [2,4,6,8])\n",
    "problem.addVariable(\"i\", [3,5,7,9])\n",
    "\n",
    "problem.addConstraint(lambda a,b: a != b,(\"a\",\"b\"))\n",
    "problem.addConstraint(lambda a,c: a != c,(\"a\",\"c\"))\n",
    "problem.addConstraint(lambda a,d: a != d,(\"a\",\"d\"))\n",
    "problem.addConstraint(lambda a,e: a != e,(\"a\",\"e\"))\n",
    "problem.addConstraint(lambda a,f: a != f,(\"a\",\"f\"))\n",
    "problem.addConstraint(lambda a,g: a != g,(\"a\",\"g\"))\n",
    "problem.addConstraint(lambda a,h: a != h,(\"a\",\"h\"))\n",
    "problem.addConstraint(lambda a,i: a != i,(\"a\",\"i\"))\n",
    "problem.addConstraint(lambda b,c: b != c,(\"b\",\"c\"))\n",
    "problem.addConstraint(lambda b,d: b != d,(\"b\",\"d\"))\n",
    "problem.addConstraint(lambda b,e: b != e,(\"b\",\"e\"))\n",
    "problem.addConstraint(lambda b,f: b != f,(\"b\",\"f\"))\n",
    "problem.addConstraint(lambda b,g: b != g,(\"b\",\"g\"))\n",
    "problem.addConstraint(lambda b,h: b != h,(\"b\",\"h\"))\n",
    "problem.addConstraint(lambda b,i: b != i,(\"b\",\"i\"))\n",
    "problem.addConstraint(lambda c,d: c != d,(\"c\",\"d\"))\n",
    "problem.addConstraint(lambda c,e: c != e,(\"c\",\"e\"))\n",
    "problem.addConstraint(lambda c,f: c != f,(\"c\",\"f\"))\n",
    "problem.addConstraint(lambda c,g: c != g,(\"c\",\"g\"))\n",
    "problem.addConstraint(lambda c,h: c != h,(\"c\",\"h\"))\n",
    "problem.addConstraint(lambda c,i: c != i,(\"c\",\"i\"))\n",
    "problem.addConstraint(lambda d,e: d != e,(\"d\",\"e\"))\n",
    "problem.addConstraint(lambda d,f: d != f,(\"d\",\"f\"))\n",
    "problem.addConstraint(lambda d,g: d != g,(\"d\",\"g\"))\n",
    "problem.addConstraint(lambda d,h: d != h,(\"d\",\"h\"))\n",
    "problem.addConstraint(lambda d,i: d != i,(\"d\",\"i\"))\n",
    "problem.addConstraint(lambda e,f: e != f,(\"e\",\"f\"))\n",
    "problem.addConstraint(lambda e,g: e != g,(\"e\",\"g\"))\n",
    "problem.addConstraint(lambda e,h: e != h,(\"e\",\"h\"))\n",
    "problem.addConstraint(lambda e,i: e != i,(\"e\",\"i\"))\n",
    "problem.addConstraint(lambda f,g: f != g,(\"f\",\"g\"))\n",
    "problem.addConstraint(lambda f,h: f != h,(\"f\",\"h\"))\n",
    "problem.addConstraint(lambda f,i: f != i,(\"f\",\"i\"))\n",
    "problem.addConstraint(lambda g,h: g != h,(\"g\",\"h\"))\n",
    "problem.addConstraint(lambda g,i: g != i,(\"g\",\"i\"))\n",
    "problem.addConstraint(lambda h,i: h != i,(\"h\",\"i\"))\n",
    "\n",
    "problem.addConstraint(lambda b,a: b == a + 1 or b == a - 1 or b == a + 3  or b == a - 3  ,(\"b\",\"a\"))\n",
    "problem.addConstraint(lambda c,b: c == b + 1 or c == b - 1 or c == b + 3  or c == b - 3  ,(\"c\",\"b\"))\n",
    "problem.addConstraint(lambda d,c: d == c + 1 or d == c - 1 or d == c + 3  or d == c - 3  ,(\"d\",\"c\"))\n",
    "problem.addConstraint(lambda e,d: e == d + 1 or e == d - 1 or e == d + 3  or e == d - 3  ,(\"e\",\"d\"))\n",
    "problem.addConstraint(lambda f,e: f == e + 1 or f == e - 1 or f == e + 3  or f == e - 3  ,(\"f\",\"e\"))\n",
    "problem.addConstraint(lambda g,f: g == f + 1 or g == f - 1 or g == f + 3  or g == f - 3  ,(\"g\",\"f\"))\n",
    "problem.addConstraint(lambda h,g: h == g + 1 or h == g - 1 or h == g + 3  or h == g - 3  ,(\"h\",\"g\"))\n",
    "problem.addConstraint(lambda i,h: i == h + 1 or i == h - 1 or i == h + 3  or i == h - 3  ,(\"i\",\"h\"))\n",
    "\n",
    "problem.addConstraint(lambda a,b: ((((a - 1) % 3 != 0) and (a - 1) > 0)) or (b != (a - 1))  ,(\"a\",\"b\"))\n",
    "problem.addConstraint(lambda b,c: ((((b - 1) % 3 != 0) and (b - 1) > 0)) or (c != (b - 1))  ,(\"b\",\"c\"))\n",
    "problem.addConstraint(lambda c,d: ((((c - 1) % 3 != 0) and (c - 1) > 0)) or (d != (c - 1))  ,(\"c\",\"d\"))\n",
    "problem.addConstraint(lambda d,e: ((((d - 1) % 3 != 0) and (d - 1) > 0)) or (e != (d - 1))  ,(\"d\",\"e\"))\n",
    "problem.addConstraint(lambda e,f: ((((e - 1) % 3 != 0) and (e - 1) > 0)) or (f != (e - 1))  ,(\"e\",\"f\"))\n",
    "problem.addConstraint(lambda f,g: ((((f - 1) % 3 != 0) and (f - 1) > 0)) or (g != (f - 1))  ,(\"f\",\"g\"))\n",
    "problem.addConstraint(lambda g,h: ((((g - 1) % 3 != 0) and (g - 1) > 0)) or (h != (g - 1))  ,(\"g\",\"h\"))\n",
    "problem.addConstraint(lambda h,i: ((((h - 1) % 3 != 0) and (h - 1) > 0)) or (i != (h - 1))  ,(\"h\",\"i\"))\n",
    "\n",
    "problem.addConstraint(lambda a,b: (((a % 3 != 0) and (a + 1) <= 9)) or (b != (a + 1))  ,(\"a\",\"b\"))\n",
    "problem.addConstraint(lambda b,c: (((b % 3 != 0) and (b + 1) <= 9)) or (c != (b + 1))  ,(\"b\",\"c\"))\n",
    "problem.addConstraint(lambda c,d: (((c % 3 != 0) and (c + 1) <= 9)) or (d != (c + 1))  ,(\"c\",\"d\"))\n",
    "problem.addConstraint(lambda d,e: (((d % 3 != 0) and (d + 1) <= 9)) or (e != (d + 1))  ,(\"d\",\"e\"))\n",
    "problem.addConstraint(lambda e,f: (((e % 3 != 0) and (e + 1) <= 9)) or (f != (e + 1))  ,(\"e\",\"f\"))\n",
    "problem.addConstraint(lambda f,g: (((f % 3 != 0) and (f + 1) <= 9)) or (g != (f + 1))  ,(\"f\",\"g\"))\n",
    "problem.addConstraint(lambda g,h: (((g % 3 != 0) and (g + 1) <= 9)) or (h != (g + 1))  ,(\"g\",\"h\"))\n",
    "problem.addConstraint(lambda h,i: (((h % 3 != 0) and (h + 1) <= 9)) or (i != (h + 1))  ,(\"h\",\"i\"))\n",
    "\n",
    "for ix in problem.getSolutions():\n",
    "    print([x[1] for x in sorted(ix.items(),key=lambda x:x[0])])"
   ]
  },
  {
   "cell_type": "code",
   "execution_count": 90,
   "metadata": {},
   "outputs": [],
   "source": [
    "for ix in range(97,106):\n",
    "    for iy in range(ix,106):\n",
    "        if ix != iy:\n",
    "            resp = 'problem.addConstraint(lambda {0},{1}: {0} != {1},(\"{0}\",\"{1}\"))'.format(chr(ix),chr(iy))\n",
    "            #print(resp)"
   ]
  },
  {
   "cell_type": "code",
   "execution_count": 95,
   "metadata": {},
   "outputs": [
    {
     "name": "stdout",
     "output_type": "stream",
     "text": [
      "problem.addConstraint(lambda b,a: b == a + 1 or b == a - 1 or b == a + 3  or b == a - 3  ,(\"b\",\"a\"))\n",
      "problem.addConstraint(lambda c,b: c == b + 1 or c == b - 1 or c == b + 3  or c == b - 3  ,(\"c\",\"b\"))\n",
      "problem.addConstraint(lambda d,c: d == c + 1 or d == c - 1 or d == c + 3  or d == c - 3  ,(\"d\",\"c\"))\n",
      "problem.addConstraint(lambda e,d: e == d + 1 or e == d - 1 or e == d + 3  or e == d - 3  ,(\"e\",\"d\"))\n",
      "problem.addConstraint(lambda f,e: f == e + 1 or f == e - 1 or f == e + 3  or f == e - 3  ,(\"f\",\"e\"))\n",
      "problem.addConstraint(lambda g,f: g == f + 1 or g == f - 1 or g == f + 3  or g == f - 3  ,(\"g\",\"f\"))\n",
      "problem.addConstraint(lambda h,g: h == g + 1 or h == g - 1 or h == g + 3  or h == g - 3  ,(\"h\",\"g\"))\n",
      "problem.addConstraint(lambda i,h: i == h + 1 or i == h - 1 or i == h + 3  or i == h - 3  ,(\"i\",\"h\"))\n"
     ]
    }
   ],
   "source": [
    "for ix in range(97,105):\n",
    "    resp = 'problem.addConstraint(lambda {0},{1}: {0} == {1} + 1 or {0} == {1} - 1 or {0} == {1} + 3  or {0} == {1} - 3  ,(\"{0}\",\"{1}\"))'.format(chr(ix+1),chr(ix))\n",
    "    print(resp)"
   ]
  },
  {
   "cell_type": "code",
   "execution_count": 118,
   "metadata": {},
   "outputs": [
    {
     "name": "stdout",
     "output_type": "stream",
     "text": [
      "problem.addConstraint(lambda a,b: ((((a - 1) % 3 != 0) and (a - 1) > 0)) or (b != (a - 1))  ,(\"a\",\"b\"))\n",
      "problem.addConstraint(lambda b,c: ((((b - 1) % 3 != 0) and (b - 1) > 0)) or (c != (b - 1))  ,(\"b\",\"c\"))\n",
      "problem.addConstraint(lambda c,d: ((((c - 1) % 3 != 0) and (c - 1) > 0)) or (d != (c - 1))  ,(\"c\",\"d\"))\n",
      "problem.addConstraint(lambda d,e: ((((d - 1) % 3 != 0) and (d - 1) > 0)) or (e != (d - 1))  ,(\"d\",\"e\"))\n",
      "problem.addConstraint(lambda e,f: ((((e - 1) % 3 != 0) and (e - 1) > 0)) or (f != (e - 1))  ,(\"e\",\"f\"))\n",
      "problem.addConstraint(lambda f,g: ((((f - 1) % 3 != 0) and (f - 1) > 0)) or (g != (f - 1))  ,(\"f\",\"g\"))\n",
      "problem.addConstraint(lambda g,h: ((((g - 1) % 3 != 0) and (g - 1) > 0)) or (h != (g - 1))  ,(\"g\",\"h\"))\n",
      "problem.addConstraint(lambda h,i: ((((h - 1) % 3 != 0) and (h - 1) > 0)) or (i != (h - 1))  ,(\"h\",\"i\"))\n"
     ]
    }
   ],
   "source": [
    "for ix in range(97,105):\n",
    "    resp = 'problem.addConstraint(lambda {0},{1}: (((({0} - 1) % 3 != 0) and ({0} - 1) > 0)) or ({1} != ({0} - 1))  ,(\"{0}\",\"{1}\"))'.format(chr(ix),chr(ix+1))\n",
    "    print(resp)"
   ]
  },
  {
   "cell_type": "code",
   "execution_count": 120,
   "metadata": {},
   "outputs": [
    {
     "name": "stdout",
     "output_type": "stream",
     "text": [
      "problem.addConstraint(lambda a,b: ((((a % 3 != 0) and (a + 1) <= 9)) or (b != (a + 1))  ,(\"a\",\"b\"))\n",
      "problem.addConstraint(lambda b,c: ((((b % 3 != 0) and (b + 1) <= 9)) or (c != (b + 1))  ,(\"b\",\"c\"))\n",
      "problem.addConstraint(lambda c,d: ((((c % 3 != 0) and (c + 1) <= 9)) or (d != (c + 1))  ,(\"c\",\"d\"))\n",
      "problem.addConstraint(lambda d,e: ((((d % 3 != 0) and (d + 1) <= 9)) or (e != (d + 1))  ,(\"d\",\"e\"))\n",
      "problem.addConstraint(lambda e,f: ((((e % 3 != 0) and (e + 1) <= 9)) or (f != (e + 1))  ,(\"e\",\"f\"))\n",
      "problem.addConstraint(lambda f,g: ((((f % 3 != 0) and (f + 1) <= 9)) or (g != (f + 1))  ,(\"f\",\"g\"))\n",
      "problem.addConstraint(lambda g,h: ((((g % 3 != 0) and (g + 1) <= 9)) or (h != (g + 1))  ,(\"g\",\"h\"))\n",
      "problem.addConstraint(lambda h,i: ((((h % 3 != 0) and (h + 1) <= 9)) or (i != (h + 1))  ,(\"h\",\"i\"))\n"
     ]
    }
   ],
   "source": [
    "for ix in range(97,105):\n",
    "    resp = 'problem.addConstraint(lambda {0},{1}: (((({0} % 3 != 0) and ({0} + 1) <= 9)) or ({1} != ({0} + 1))  ,(\"{0}\",\"{1}\"))'.format(chr(ix),chr(ix+1))\n",
    "    print(resp)"
   ]
  }
 ],
 "metadata": {
  "kernelspec": {
   "display_name": "Python 3",
   "language": "python",
   "name": "python3"
  },
  "language_info": {
   "codemirror_mode": {
    "name": "ipython",
    "version": 3
   },
   "file_extension": ".py",
   "mimetype": "text/x-python",
   "name": "python",
   "nbconvert_exporter": "python",
   "pygments_lexer": "ipython3",
   "version": "3.7.3"
  }
 },
 "nbformat": 4,
 "nbformat_minor": 4
}
