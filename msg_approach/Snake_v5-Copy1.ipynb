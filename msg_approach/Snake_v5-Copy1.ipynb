{
 "cells": [
  {
   "cell_type": "code",
   "execution_count": 437,
   "metadata": {},
   "outputs": [],
   "source": [
    "import pandas as pd\n",
    "import numpy as np\n",
    "from random import choice\n",
    "from itertools import product"
   ]
  },
  {
   "cell_type": "code",
   "execution_count": 438,
   "metadata": {
    "collapsed": true
   },
   "outputs": [],
   "source": [
    "G = nx.DiGraph()\n",
    "bndry=3\n",
    "seen=set()\n",
    "move_history=[]\n",
    "df=pd.DataFrame(np.array(range(bndry**2)).reshape(bndry,bndry))"
   ]
  },
  {
   "cell_type": "code",
   "execution_count": null,
   "metadata": {},
   "outputs": [],
   "source": []
  },
  {
   "cell_type": "code",
   "execution_count": 439,
   "metadata": {
    "collapsed": true
   },
   "outputs": [],
   "source": [
    "def possible_moves(ix,iy):\n",
    "            test_lst=[(ix-1,iy),(ix+1,iy),(ix,iy+1),(ix,iy-1)]\n",
    "            #filter invalid values\n",
    "            resp=[(ix,iy) for (ix,iy) in test_lst \\\n",
    "                  if ix>=0 and ix < bndry and  iy >= 0 and iy < bndry and (ix,iy) not in seen]\n",
    "            return resp\n",
    "        \n",
    "        \n"
   ]
  },
  {
   "cell_type": "code",
   "execution_count": null,
   "metadata": {
    "collapsed": true
   },
   "outputs": [],
   "source": []
  },
  {
   "cell_type": "code",
   "execution_count": null,
   "metadata": {
    "collapsed": true
   },
   "outputs": [],
   "source": []
  },
  {
   "cell_type": "code",
   "execution_count": null,
   "metadata": {
    "collapsed": true
   },
   "outputs": [],
   "source": []
  },
  {
   "cell_type": "code",
   "execution_count": null,
   "metadata": {},
   "outputs": [],
   "source": []
  },
  {
   "cell_type": "code",
   "execution_count": 440,
   "metadata": {
    "collapsed": true
   },
   "outputs": [],
   "source": [
    "#initial dict setup\n",
    "def dct_setup():\n",
    "    seen=set()\n",
    "    move_history=[]\n",
    "    lst=df.columns.tolist()\n",
    "    #print lst\n",
    "    dct={}\n",
    "    seen=set()\n",
    "    points=list(product(lst,lst))\n",
    "   \n",
    "\n",
    "    for tupl in points:\n",
    "        dct[tupl]=possible_moves(tupl[0],tupl[1])\n",
    "        \n",
    "    return dct\n",
    "            \n",
    "            \n"
   ]
  },
  {
   "cell_type": "code",
   "execution_count": 441,
   "metadata": {
    "collapsed": true
   },
   "outputs": [],
   "source": [
    "dct=dct_setup()\n"
   ]
  },
  {
   "cell_type": "code",
   "execution_count": 442,
   "metadata": {},
   "outputs": [],
   "source": [
    "solutions=[]\n",
    "failed=[]"
   ]
  },
  {
   "cell_type": "code",
   "execution_count": 449,
   "metadata": {},
   "outputs": [],
   "source": [
    "\n",
    "pieces=[]\n",
    "for k,v in dct.items():\n",
    "    for g in product([k],v):\n",
    "        pieces.append(g)"
   ]
  },
  {
   "cell_type": "code",
   "execution_count": 450,
   "metadata": {},
   "outputs": [],
   "source": [
    "node_list=[]\n",
    "def query(tupl):\n",
    "    global pieces\n",
    "    node_list.append(tupl)\n",
    "    print node_list\n",
    "    resp=[x for x in pieces if x[0]==tupl]\n",
    "    pieces=[x for x in pieces if x[0] not in node_list and x[1] not in node_list]\n",
    "    return resp"
   ]
  },
  {
   "cell_type": "code",
   "execution_count": 451,
   "metadata": {},
   "outputs": [
    {
     "name": "stdout",
     "output_type": "stream",
     "text": [
      "[(0, 0)]\n",
      "[(0, 0), (0, 1)]\n",
      "[(0, 0), (0, 1), (1, 1)]\n",
      "[(0, 0), (0, 1), (1, 1), (2, 1)]\n",
      "[(0, 0), (0, 1), (1, 1), (2, 1), (2, 0)]\n",
      "[(0, 0), (0, 1), (1, 1), (2, 1), (2, 0), (1, 0)]\n",
      "failed\n"
     ]
    }
   ],
   "source": [
    "resp=query((0,0))\n",
    "while True:\n",
    "    try:\n",
    "        resp=query(choice([x[1] for x in resp]))\n",
    "    except:\n",
    "        if len(node_list)==9:\n",
    "            print \"solution\",node_list\n",
    "            solutions.append(node_list)\n",
    "            break\n",
    "        else:\n",
    "            print \"failed\"\n",
    "            failed.append(node_list)\n",
    "            break"
   ]
  },
  {
   "cell_type": "code",
   "execution_count": 448,
   "metadata": {
    "collapsed": true
   },
   "outputs": [],
   "source": [
    "\n",
    "bndry=3\n",
    "seen=set()\n",
    "move_history=[]\n",
    "df=pd.DataFrame(np.array(range(bndry**2)).reshape(bndry,bndry))"
   ]
  },
  {
   "cell_type": "code",
   "execution_count": null,
   "metadata": {
    "collapsed": true
   },
   "outputs": [],
   "source": []
  },
  {
   "cell_type": "code",
   "execution_count": 447,
   "metadata": {},
   "outputs": [
    {
     "data": {
      "text/plain": [
       "[[(0, 0), (0, 1), (1, 1), (1, 0), (2, 0), (2, 1), (2, 2), (1, 2), (0, 2)]]"
      ]
     },
     "execution_count": 447,
     "metadata": {},
     "output_type": "execute_result"
    }
   ],
   "source": [
    "solutions"
   ]
  },
  {
   "cell_type": "code",
   "execution_count": 452,
   "metadata": {},
   "outputs": [
    {
     "data": {
      "text/plain": [
       "[[(0, 0), (0, 1), (1, 1), (2, 1), (2, 0), (1, 0)]]"
      ]
     },
     "execution_count": 452,
     "metadata": {},
     "output_type": "execute_result"
    }
   ],
   "source": [
    "failed"
   ]
  },
  {
   "cell_type": "code",
   "execution_count": null,
   "metadata": {
    "collapsed": true
   },
   "outputs": [],
   "source": []
  }
 ],
 "metadata": {
  "kernelspec": {
   "display_name": "Python 2",
   "language": "python",
   "name": "python2"
  },
  "language_info": {
   "codemirror_mode": {
    "name": "ipython",
    "version": 2
   },
   "file_extension": ".py",
   "mimetype": "text/x-python",
   "name": "python",
   "nbconvert_exporter": "python",
   "pygments_lexer": "ipython2",
   "version": "2.7.9"
  }
 },
 "nbformat": 4,
 "nbformat_minor": 2
}
